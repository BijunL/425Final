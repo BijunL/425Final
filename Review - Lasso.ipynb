{
 "cells": [
  {
   "cell_type": "code",
   "execution_count": 1,
   "id": "1022e4d8",
   "metadata": {},
   "outputs": [],
   "source": [
    "import pandas as pd\n",
    "import matplotlib.pyplot as plt"
   ]
  },
  {
   "cell_type": "markdown",
   "id": "a98f5070",
   "metadata": {},
   "source": [
    "# 0.) Clean the Apple Data to get a quarterly series of EPS."
   ]
  },
  {
   "cell_type": "code",
   "execution_count": 2,
   "id": "c7f8e883",
   "metadata": {},
   "outputs": [],
   "source": [
    "y = pd.read_csv('AAPL_quarterly_financials.csv')"
   ]
  },
  {
   "cell_type": "code",
   "execution_count": 3,
   "id": "65cef6cf",
   "metadata": {},
   "outputs": [],
   "source": [
    "# 将 DataFrame 的索引设置为 name 列\n",
    "y.index = y.name"
   ]
  },
  {
   "cell_type": "code",
   "execution_count": 4,
   "id": "af186a85",
   "metadata": {},
   "outputs": [],
   "source": [
    "# 选择基本每股收益（Basic EPS）作为分析的目标，并且去除前两行（可能是非数据行，如标题或总结）\n",
    "y = pd.DataFrame(y.loc[\"BasicEPS\",:]).iloc[2:,:]"
   ]
  },
  {
   "cell_type": "code",
   "execution_count": 5,
   "id": "f94db9c1",
   "metadata": {},
   "outputs": [],
   "source": [
    "y.index = pd.to_datetime(y.index) # 将索引转换为 datetime 对象，以便于时间序列分析"
   ]
  },
  {
   "cell_type": "code",
   "execution_count": 6,
   "id": "0cf724f7",
   "metadata": {},
   "outputs": [],
   "source": [
    "y = y.fillna(0.).sort_index() # 填充缺失值为 0 并按时间排序"
   ]
  },
  {
   "cell_type": "markdown",
   "id": "73c7abb8",
   "metadata": {},
   "source": [
    "# 2.) Normalize all the X data"
   ]
  },
  {
   "cell_type": "code",
   "execution_count": 7,
   "id": "ac0dc7de",
   "metadata": {},
   "outputs": [],
   "source": [
    "# 使用 TrendReq 创建 pytrends 对象，设置语言和时区\n",
    "from pytrends.request import TrendReq"
   ]
  },
  {
   "cell_type": "code",
   "execution_count": 9,
   "id": "36446546",
   "metadata": {},
   "outputs": [],
   "source": [
    "# 定义一个关键词列表和时间范围，用于检索 Google Trends 数据\n",
    "# 设置语言为英文（hl='en-US'），时区为 UTC+6（tz=360）\n",
    "pytrends = TrendReq(hl='en-US', tz=360)\n",
    "\n",
    "# 设定关键词和时间范围\n",
    "keywords = [\"MacBook\",\"iPhone\",\"iPad\",\"Apple Layoffs\",\"Sales\",\"Apple Share Price\",\n",
    "            \"Recession\",\"Policy\",\"Taylor Swift Tickets\",\"Is the Earth Flat\",\"Hospital\"]  # Add your keywords here\n",
    "start_date = '2004-01-01'\n",
    "end_date = '2024-01-01'\n",
    "\n",
    "# 遍历每个关键词，使用 pytrends 获取指定时间范围内的趋势数据，并将结果存储在 DataFrame df 中\n",
    "\n",
    "# Create an empty DataFrame to store the results\n",
    "df = pd.DataFrame()\n",
    "\n",
    "# Iterate through keywords and fetch data\n",
    "for keyword in keywords:\n",
    "    pytrends.build_payload([keyword], cat=0, timeframe=f'{start_date} {end_date}', geo='', gprop='')\n",
    "    interest_over_time_df = pytrends.interest_over_time()\n",
    "    df[keyword] = interest_over_time_df[keyword]"
   ]
  },
  {
   "cell_type": "code",
   "execution_count": 10,
   "id": "77671d95",
   "metadata": {},
   "outputs": [],
   "source": [
    "# 重采样为季度数据：将 Google Trends 数据按季度重采样，并计算每个季度的平均值，以便与季度财务数据匹配\n",
    "X = df.resample(\"Q\").mean()\n",
    "\n",
    "#合并数据：将财务数据（y）和重采样后的 Google Trends 数据（X）合并，并丢弃任何包含缺失值的行。\n",
    "temp = pd.concat([y,X],axis=1).dropna()\n",
    "\n",
    "# 分离特征和目标变量:从合并后的数据中分离出目标变量（BasicEPS）和特征（Google Trends 数据）\n",
    "y = temp[[\"BasicEPS\"]].copy()\n",
    "X = temp.iloc[:,1:].copy()"
   ]
  },
  {
   "cell_type": "code",
   "execution_count": 11,
   "id": "69aee727",
   "metadata": {},
   "outputs": [],
   "source": [
    "# 标准化特征数据\n",
    "# 使用 StandardScaler 对特征数据进行标准化处理，确保每个特征具有 0 均值和单位方差，有利于模型训练的稳定性和效果\n",
    "from sklearn.preprocessing import StandardScaler\n",
    "scaler = StandardScaler()\n",
    "X_scaled = scaler.fit_transform(X)"
   ]
  },
  {
   "cell_type": "markdown",
   "id": "da43d5ef",
   "metadata": {},
   "source": [
    "# 4.) Run a Lasso with lambda of .5. Plot a bar chart."
   ]
  },
  {
   "cell_type": "code",
   "execution_count": 12,
   "id": "b7ff06aa",
   "metadata": {},
   "outputs": [],
   "source": [
    "# 应用 Lasso 回归：能够通过将一些系数压缩到 0 来实现特征选择\n",
    "\n",
    "from sklearn.linear_model import Lasso\n",
    "lasso = Lasso(alpha = .1) # alpha=0.1 是正则化强度参数\n",
    "lasso.fit(X_scaled,y)\n",
    "coefficients = lasso.coef_"
   ]
  },
  {
   "cell_type": "code",
   "execution_count": 13,
   "id": "f7311bec",
   "metadata": {},
   "outputs": [
    {
     "data": {
      "image/png": "[encoded data removed]",
      "text/plain": [
       "<Figure size 1800x500 with 1 Axes>"
      ]
     },
     "metadata": {},
     "output_type": "display_data"
    }
   ],
   "source": [
    "# 获取和可视化系数：提取 Lasso 回归模型的系数，并使用柱状图进行可视化\n",
    "# 红色水平线表示系数值为 0 的参考线，非零系数的特征可能对目标变量有重要影响\n",
    "plt.figure(figsize = (18,5))\n",
    "plt.bar(range(len(coefficients)),coefficients,tick_label=X.columns)\n",
    "plt.axhline(0.,color = \"red\")\n",
    "plt.show()"
   ]
  },
  {
   "cell_type": "markdown",
   "id": "c25f9238",
   "metadata": {},
   "source": [
    "Lasso回归，全称为Least Absolute Shrinkage and Selection Operator回归，是一种在回归模型中进行变量选择和复杂度调整的技术，以提高模型的预测精度和解释能力。Lasso通过在损失函数中加入一个L1惩罚项（即系数的绝对值之和）来实现这一目标。这种方法可以将一些不重要特征的系数压缩至0，从而实现变量选择的目的。\n",
    "\n",
    "\n",
    "### 有何意义：\n",
    "\n",
    "Lasso回归的重要性主要体现在以下几个方面：\n",
    "\n",
    "- **变量选择**：通过将不重要的特征系数压缩至0，Lasso帮助识别对模型预测最有影响力的变量，简化模型并减少过拟合的风险。\n",
    "- **模型解释性**：简化后的模型只包含有影响的特征，提高了模型的可解释性，有助于理解哪些变量是影响目标变量的关键因素。\n",
    "- **处理多重共线性**：当数据中存在高度相关的特征时，Lasso可以通过将一些相关特征的系数压缩至0来减轻多重共线性问题。\n",
    "\n",
    "总之，Lasso回归是一种强大的回归分析工具，它不仅可以提高模型的预测性能，还可以通过变量选择和模型简化来提升模型的解释性。"
   ]
  },
  {
   "cell_type": "code",
   "execution_count": null,
   "id": "8edaf8d7",
   "metadata": {},
   "outputs": [],
   "source": [
    "#如何实现：\n",
    "\n",
    "# 1. 导入Lasso回归\n",
    "from sklearn.linear_model import Lasso\n",
    "\n",
    "# 2. 创建Lasso回归模型\n",
    "lasso = Lasso(alpha=0.1)\n",
    "# 这里创建了一个Lasso回归对象`lasso`，`alpha`参数控制L1惩罚的强度。`alpha`的值越大，施加的惩罚越强，更多的系数会被压缩至0。\n",
    "\n",
    "# 3. 训练模型\n",
    "lasso.fit(X_scaled, y)\n",
    "# 使用标准化后的特征数据`X_scaled`和目标变量`y`来训练Lasso回归模型\n",
    "# 训练过程中，模型会学习每个特征对目标变量的影响，同时施加L1惩罚以减少模型复杂度\n",
    "\n",
    "# 4. 获取系数\n",
    "coefficients = lasso.coef_\n",
    "# 训练完成后，可以通过`coef_`属性获取模型学习到的系数。在Lasso回归中，一些不重要的特征系数会被压缩至0。\n",
    "\n",
    "# 5. 可视化系数\n",
    "plt.bar(range(len(coefficients)), coefficients, tick_label=X.columns)\n",
    "# 通过绘制柱状图，直观展示每个特征的系数大小。系数为0的特征可以认为对模型的预测没有贡献，因此可以被视为非重要特征。"
   ]
  },
  {
   "cell_type": "markdown",
   "id": "e130a2be",
   "metadata": {},
   "source": [
    "# 5.) Do these coefficient magnitudes make sense?"
   ]
  },
  {
   "cell_type": "code",
   "execution_count": null,
   "id": "0798b232",
   "metadata": {},
   "outputs": [],
   "source": []
  },
  {
   "cell_type": "code",
   "execution_count": null,
   "id": "bda82fa9",
   "metadata": {},
   "outputs": [],
   "source": []
  },
  {
   "cell_type": "markdown",
   "id": "3a2bd7d7",
   "metadata": {},
   "source": [
    "# 6.) Run a for loop looking at 10 different Lambdas and plot the coefficient magnitude for each."
   ]
  },
  {
   "cell_type": "code",
   "execution_count": null,
   "id": "1f115bee",
   "metadata": {},
   "outputs": [],
   "source": []
  },
  {
   "cell_type": "code",
   "execution_count": null,
   "id": "7a3e12d3",
   "metadata": {},
   "outputs": [],
   "source": []
  },
  {
   "cell_type": "markdown",
   "id": "17b28626",
   "metadata": {},
   "source": [
    "# 7.) Run a cross validation. What is your ideal lambda?"
   ]
  },
  {
   "cell_type": "code",
   "execution_count": null,
   "id": "9fc5cca1",
   "metadata": {},
   "outputs": [],
   "source": []
  },
  {
   "cell_type": "code",
   "execution_count": null,
   "id": "a58a192a",
   "metadata": {},
   "outputs": [],
   "source": []
  }
 ],
 "metadata": {
  "kernelspec": {
   "display_name": "Python 3 (ipykernel)",
   "language": "python",
   "name": "python3"
  },
  "language_info": {
   "codemirror_mode": {
    "name": "ipython",
    "version": 3
   },
   "file_extension": ".py",
   "mimetype": "text/x-python",
   "name": "python",
   "nbconvert_exporter": "python",
   "pygments_lexer": "ipython3",
   "version": "3.11.4"
  }
 },
 "nbformat": 4,
 "nbformat_minor": 5
}
